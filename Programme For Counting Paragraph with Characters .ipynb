{
 "cells": [
  {
   "cell_type": "raw",
   "id": "603895df",
   "metadata": {},
   "source": [
    "Here’s a brief description of the program:\n",
    "\n",
    "This Python program provides a GUI-based Paragraph and Character Counter using the `tkinter` library. It allows users to input text into a multi-line text area, press a \"Count\" button, and view the results showing:\n",
    "\n",
    "1. Number of Paragraphs: Counts non-empty lines as paragraphs.\n",
    "2. Number of Characters: Counts all characters in the paragraphs.\n",
    "\n",
    "Features:\n",
    "- Simple and interactive interface.\n",
    "- Real-time result display.\n",
    "- Handles empty inputs gracefully with a warning popup.\n",
    "\n",
    "Usage:\n",
    "1. Enter or paste text into the provided box.\n",
    "2. Click the Count button.\n",
    "3. View the results displayed below."
   ]
  },
  {
   "cell_type": "code",
   "execution_count": 4,
   "id": "439c4a45",
   "metadata": {},
   "outputs": [],
   "source": [
    "import tkinter as tk\n",
    "from tkinter import messagebox\n",
    "\n",
    "def count_paragraphs_and_characters():\n",
    "    # Get text from the text area\n",
    "    content = text_area.get(\"1.0\", tk.END).strip()\n",
    "    \n",
    "    if not content:\n",
    "        messagebox.showwarning(\"Warning\", \"Please enter some text!\")\n",
    "        return\n",
    "    \n",
    "    # Splitting paragraphs and filtering empty lines\n",
    "    paragraphs = [p.strip() for p in content.split('\\n') if p.strip()]\n",
    "    num_paragraphs = len(paragraphs)\n",
    "    num_characters = sum(len(p) for p in paragraphs)\n",
    "    \n",
    "    # Display results\n",
    "    result_label.config(\n",
    "        text=f\"Number of paragraphs: {num_paragraphs}\\nNumber of characters: {num_characters}\"\n",
    "    )\n",
    "\n",
    "# Create the main application window\n",
    "root = tk.Tk()\n",
    "root.title(\"Paragraph and Character Counter\")\n",
    "\n",
    "# Create a text area\n",
    "text_area = tk.Text(root, wrap=tk.WORD, height=15, width=50)\n",
    "text_area.pack(pady=10)\n",
    "\n",
    "# Create a button to trigger the counting process\n",
    "count_button = tk.Button(root, text=\"Count\", command=count_paragraphs_and_characters)\n",
    "count_button.pack(pady=5)\n",
    "\n",
    "# Label to display results\n",
    "result_label = tk.Label(root, text=\"\", fg=\"blue\", font=(\"Arial\", 12))\n",
    "result_label.pack(pady=10)\n",
    "\n",
    "# Run the application\n",
    "root.mainloop()"
   ]
  },
  {
   "cell_type": "code",
   "execution_count": null,
   "id": "c2863997",
   "metadata": {},
   "outputs": [],
   "source": []
  }
 ],
 "metadata": {
  "kernelspec": {
   "display_name": "Python 3 (ipykernel)",
   "language": "python",
   "name": "python3"
  },
  "language_info": {
   "codemirror_mode": {
    "name": "ipython",
    "version": 3
   },
   "file_extension": ".py",
   "mimetype": "text/x-python",
   "name": "python",
   "nbconvert_exporter": "python",
   "pygments_lexer": "ipython3",
   "version": "3.11.4"
  }
 },
 "nbformat": 4,
 "nbformat_minor": 5
}
